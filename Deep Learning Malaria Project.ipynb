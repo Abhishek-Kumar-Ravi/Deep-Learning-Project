{
 "cells": [
  {
   "cell_type": "code",
   "execution_count": 80,
   "id": "52a1f4b6",
   "metadata": {},
   "outputs": [
    {
     "name": "stdout",
     "output_type": "stream",
     "text": [
      "Requirement already satisfied: tensorflow in c:\\users\\dell\\anaconda3\\lib\\site-packages (2.8.0)\n",
      "Requirement already satisfied: numpy>=1.20 in c:\\users\\dell\\anaconda3\\lib\\site-packages (from tensorflow) (1.20.1)\n",
      "Requirement already satisfied: wrapt>=1.11.0 in c:\\users\\dell\\anaconda3\\lib\\site-packages (from tensorflow) (1.12.1)\n",
      "Requirement already satisfied: keras-preprocessing>=1.1.1 in c:\\users\\dell\\anaconda3\\lib\\site-packages (from tensorflow) (1.1.2)\n",
      "Requirement already satisfied: setuptools in c:\\users\\dell\\anaconda3\\lib\\site-packages (from tensorflow) (52.0.0.post20210125)\n",
      "Requirement already satisfied: libclang>=9.0.1 in c:\\users\\dell\\anaconda3\\lib\\site-packages (from tensorflow) (13.0.0)\n",
      "Requirement already satisfied: google-pasta>=0.1.1 in c:\\users\\dell\\anaconda3\\lib\\site-packages (from tensorflow) (0.2.0)\n",
      "Requirement already satisfied: protobuf>=3.9.2 in c:\\users\\dell\\anaconda3\\lib\\site-packages (from tensorflow) (3.19.4)\n",
      "Requirement already satisfied: astunparse>=1.6.0 in c:\\users\\dell\\anaconda3\\lib\\site-packages (from tensorflow) (1.6.3)\n",
      "Requirement already satisfied: tf-estimator-nightly==2.8.0.dev2021122109 in c:\\users\\dell\\anaconda3\\lib\\site-packages (from tensorflow) (2.8.0.dev2021122109)\n",
      "Requirement already satisfied: tensorboard<2.9,>=2.8 in c:\\users\\dell\\anaconda3\\lib\\site-packages (from tensorflow) (2.8.0)\n",
      "Requirement already satisfied: keras<2.9,>=2.8.0rc0 in c:\\users\\dell\\anaconda3\\lib\\site-packages (from tensorflow) (2.8.0)\n",
      "Requirement already satisfied: h5py>=2.9.0 in c:\\users\\dell\\anaconda3\\lib\\site-packages (from tensorflow) (2.10.0)\n",
      "Requirement already satisfied: typing-extensions>=3.6.6 in c:\\users\\dell\\anaconda3\\lib\\site-packages (from tensorflow) (3.7.4.3)\n",
      "Requirement already satisfied: opt-einsum>=2.3.2 in c:\\users\\dell\\anaconda3\\lib\\site-packages (from tensorflow) (3.3.0)\n",
      "Requirement already satisfied: tensorflow-io-gcs-filesystem>=0.23.1 in c:\\users\\dell\\anaconda3\\lib\\site-packages (from tensorflow) (0.24.0)\n",
      "Requirement already satisfied: flatbuffers>=1.12 in c:\\users\\dell\\anaconda3\\lib\\site-packages (from tensorflow) (2.0)\n",
      "Requirement already satisfied: absl-py>=0.4.0 in c:\\users\\dell\\anaconda3\\lib\\site-packages (from tensorflow) (1.0.0)\n",
      "Requirement already satisfied: six>=1.12.0 in c:\\users\\dell\\anaconda3\\lib\\site-packages (from tensorflow) (1.15.0)\n",
      "Requirement already satisfied: grpcio<2.0,>=1.24.3 in c:\\users\\dell\\anaconda3\\lib\\site-packages (from tensorflow) (1.44.0)\n",
      "Requirement already satisfied: gast>=0.2.1 in c:\\users\\dell\\anaconda3\\lib\\site-packages (from tensorflow) (0.5.3)\n",
      "Requirement already satisfied: termcolor>=1.1.0 in c:\\users\\dell\\anaconda3\\lib\\site-packages (from tensorflow) (1.1.0)\n",
      "Requirement already satisfied: wheel<1.0,>=0.23.0 in c:\\users\\dell\\anaconda3\\lib\\site-packages (from astunparse>=1.6.0->tensorflow) (0.36.2)\n",
      "Requirement already satisfied: google-auth-oauthlib<0.5,>=0.4.1 in c:\\users\\dell\\anaconda3\\lib\\site-packages (from tensorboard<2.9,>=2.8->tensorflow) (0.4.6)\n",
      "Requirement already satisfied: tensorboard-plugin-wit>=1.6.0 in c:\\users\\dell\\anaconda3\\lib\\site-packages (from tensorboard<2.9,>=2.8->tensorflow) (1.8.1)\n",
      "Requirement already satisfied: markdown>=2.6.8 in c:\\users\\dell\\anaconda3\\lib\\site-packages (from tensorboard<2.9,>=2.8->tensorflow) (3.3.6)\n",
      "Requirement already satisfied: tensorboard-data-server<0.7.0,>=0.6.0 in c:\\users\\dell\\anaconda3\\lib\\site-packages (from tensorboard<2.9,>=2.8->tensorflow) (0.6.1)\n",
      "Requirement already satisfied: google-auth<3,>=1.6.3 in c:\\users\\dell\\anaconda3\\lib\\site-packages (from tensorboard<2.9,>=2.8->tensorflow) (2.6.0)\n",
      "Requirement already satisfied: werkzeug>=0.11.15 in c:\\users\\dell\\anaconda3\\lib\\site-packages (from tensorboard<2.9,>=2.8->tensorflow) (1.0.1)\n",
      "Requirement already satisfied: requests<3,>=2.21.0 in c:\\users\\dell\\anaconda3\\lib\\site-packages (from tensorboard<2.9,>=2.8->tensorflow) (2.25.1)\n",
      "Requirement already satisfied: pyasn1-modules>=0.2.1 in c:\\users\\dell\\anaconda3\\lib\\site-packages (from google-auth<3,>=1.6.3->tensorboard<2.9,>=2.8->tensorflow) (0.2.8)\n",
      "Requirement already satisfied: rsa<5,>=3.1.4 in c:\\users\\dell\\anaconda3\\lib\\site-packages (from google-auth<3,>=1.6.3->tensorboard<2.9,>=2.8->tensorflow) (4.8)\n",
      "Requirement already satisfied: cachetools<6.0,>=2.0.0 in c:\\users\\dell\\anaconda3\\lib\\site-packages (from google-auth<3,>=1.6.3->tensorboard<2.9,>=2.8->tensorflow) (5.0.0)\n",
      "Requirement already satisfied: requests-oauthlib>=0.7.0 in c:\\users\\dell\\anaconda3\\lib\\site-packages (from google-auth-oauthlib<0.5,>=0.4.1->tensorboard<2.9,>=2.8->tensorflow) (1.3.1)\n",
      "Requirement already satisfied: importlib-metadata>=4.4 in c:\\users\\dell\\anaconda3\\lib\\site-packages (from markdown>=2.6.8->tensorboard<2.9,>=2.8->tensorflow) (4.11.2)\n",
      "Requirement already satisfied: zipp>=0.5 in c:\\users\\dell\\anaconda3\\lib\\site-packages (from importlib-metadata>=4.4->markdown>=2.6.8->tensorboard<2.9,>=2.8->tensorflow) (3.4.1)\n",
      "Requirement already satisfied: pyasn1<0.5.0,>=0.4.6 in c:\\users\\dell\\anaconda3\\lib\\site-packages (from pyasn1-modules>=0.2.1->google-auth<3,>=1.6.3->tensorboard<2.9,>=2.8->tensorflow) (0.4.8)\n",
      "Requirement already satisfied: urllib3<1.27,>=1.21.1 in c:\\users\\dell\\anaconda3\\lib\\site-packages (from requests<3,>=2.21.0->tensorboard<2.9,>=2.8->tensorflow) (1.26.4)\n",
      "Requirement already satisfied: chardet<5,>=3.0.2 in c:\\users\\dell\\anaconda3\\lib\\site-packages (from requests<3,>=2.21.0->tensorboard<2.9,>=2.8->tensorflow) (4.0.0)\n",
      "Requirement already satisfied: certifi>=2017.4.17 in c:\\users\\dell\\anaconda3\\lib\\site-packages (from requests<3,>=2.21.0->tensorboard<2.9,>=2.8->tensorflow) (2020.12.5)\n",
      "Requirement already satisfied: idna<3,>=2.5 in c:\\users\\dell\\anaconda3\\lib\\site-packages (from requests<3,>=2.21.0->tensorboard<2.9,>=2.8->tensorflow) (2.10)\n",
      "Requirement already satisfied: oauthlib>=3.0.0 in c:\\users\\dell\\anaconda3\\lib\\site-packages (from requests-oauthlib>=0.7.0->google-auth-oauthlib<0.5,>=0.4.1->tensorboard<2.9,>=2.8->tensorflow) (3.2.0)\n",
      "Note: you may need to restart the kernel to use updated packages.\n"
     ]
    }
   ],
   "source": [
    "pip install tensorflow"
   ]
  },
  {
   "cell_type": "code",
   "execution_count": 81,
   "id": "1186029b",
   "metadata": {},
   "outputs": [],
   "source": [
    "import tensorflow as tf"
   ]
  },
  {
   "cell_type": "code",
   "execution_count": 82,
   "id": "28d8ebff",
   "metadata": {},
   "outputs": [
    {
     "data": {
      "text/plain": [
       "'2.8.0'"
      ]
     },
     "execution_count": 82,
     "metadata": {},
     "output_type": "execute_result"
    }
   ],
   "source": [
    "tf.__version__"
   ]
  },
  {
   "cell_type": "code",
   "execution_count": 83,
   "id": "5fcd3c78",
   "metadata": {},
   "outputs": [],
   "source": [
    "########## Resizing all the image to this\n",
    "Image_Size = [224,224]\n",
    "training_path = 'C:\\\\Users\\\\DELL\\\\OneDrive - D Cube Analytics Pvt. Ltd\\\\Desktop\\\\ML\\\\Machine Learning A-Z (Codes and Datasets)\\\\DL-PROJECT\\\\Dataset\\\\Train'\n",
    "test_path = 'C:\\\\Users\\\\DELL\\\\OneDrive - D Cube Analytics Pvt. Ltd\\\\Desktop\\\\ML\\\\Machine Learning A-Z (Codes and Datasets)\\\\DL-PROJECT\\\\Dataset\\\\Test'"
   ]
  },
  {
   "cell_type": "code",
   "execution_count": 84,
   "id": "5e30315c",
   "metadata": {},
   "outputs": [],
   "source": [
    "################## Importing the Vgg 19 library and applying \n",
    "\n",
    "from tensorflow.keras.applications.vgg19 import VGG19\n",
    "\n",
    "vgg19 = VGG19(input_shape = Image_Size + [3], weights = 'imagenet',  include_top = False)"
   ]
  },
  {
   "cell_type": "code",
   "execution_count": 85,
   "id": "094ca32d",
   "metadata": {},
   "outputs": [],
   "source": [
    "############# Not training the existing weights \n",
    "\n",
    "for layer in vgg19.layers:\n",
    "    layer.trainable = False"
   ]
  },
  {
   "cell_type": "code",
   "execution_count": 86,
   "id": "ab12570c",
   "metadata": {},
   "outputs": [
    {
     "data": {
      "text/plain": [
       "['C:\\\\Users\\\\DELL\\\\OneDrive - D Cube Analytics Pvt. Ltd\\\\Desktop\\\\ML\\\\Machine Learning A-Z (Codes and Datasets)\\\\DL-PROJECT\\\\Dataset\\\\Train\\\\Parasite',\n",
       " 'C:\\\\Users\\\\DELL\\\\OneDrive - D Cube Analytics Pvt. Ltd\\\\Desktop\\\\ML\\\\Machine Learning A-Z (Codes and Datasets)\\\\DL-PROJECT\\\\Dataset\\\\Train\\\\Uninfected']"
      ]
     },
     "execution_count": 86,
     "metadata": {},
     "output_type": "execute_result"
    }
   ],
   "source": [
    "################ useful for checking total number of output classes\n",
    "from glob import glob\n",
    "folders = glob('C:\\\\Users\\\\DELL\\\\OneDrive - D Cube Analytics Pvt. Ltd\\\\Desktop\\\\ML\\\\Machine Learning A-Z (Codes and Datasets)\\\\DL-PROJECT\\\\Dataset\\\\Train\\\\*')\n",
    "folders"
   ]
  },
  {
   "cell_type": "code",
   "execution_count": 87,
   "id": "38390e38",
   "metadata": {},
   "outputs": [
    {
     "data": {
      "text/plain": [
       "2"
      ]
     },
     "execution_count": 87,
     "metadata": {},
     "output_type": "execute_result"
    }
   ],
   "source": [
    "len(folders)"
   ]
  },
  {
   "cell_type": "code",
   "execution_count": 88,
   "id": "9b959fd1",
   "metadata": {},
   "outputs": [],
   "source": [
    "#################### Flattening the output of vgg19\n",
    "\n",
    "from tensorflow.keras.layers import Flatten\n",
    "x = Flatten()(vgg19.output)"
   ]
  },
  {
   "cell_type": "code",
   "execution_count": 89,
   "id": "01307a90",
   "metadata": {},
   "outputs": [],
   "source": [
    "############### After Flattening adding Dense layer \n",
    "\n",
    "from tensorflow.keras.layers import Dense\n",
    "prediction = Dense(units = len(folders), activation = 'softmax')(x)"
   ]
  },
  {
   "cell_type": "code",
   "execution_count": 90,
   "id": "0647298d",
   "metadata": {},
   "outputs": [],
   "source": [
    "############### creating a model object\n",
    "\n",
    "from tensorflow.keras.models import Model\n",
    "model = Model(inputs = vgg19.input , outputs = prediction)"
   ]
  },
  {
   "cell_type": "code",
   "execution_count": 91,
   "id": "e6a417c4",
   "metadata": {},
   "outputs": [
    {
     "name": "stdout",
     "output_type": "stream",
     "text": [
      "Model: \"model_3\"\n",
      "_________________________________________________________________\n",
      " Layer (type)                Output Shape              Param #   \n",
      "=================================================================\n",
      " input_4 (InputLayer)        [(None, 224, 224, 3)]     0         \n",
      "                                                                 \n",
      " block1_conv1 (Conv2D)       (None, 224, 224, 64)      1792      \n",
      "                                                                 \n",
      " block1_conv2 (Conv2D)       (None, 224, 224, 64)      36928     \n",
      "                                                                 \n",
      " block1_pool (MaxPooling2D)  (None, 112, 112, 64)      0         \n",
      "                                                                 \n",
      " block2_conv1 (Conv2D)       (None, 112, 112, 128)     73856     \n",
      "                                                                 \n",
      " block2_conv2 (Conv2D)       (None, 112, 112, 128)     147584    \n",
      "                                                                 \n",
      " block2_pool (MaxPooling2D)  (None, 56, 56, 128)       0         \n",
      "                                                                 \n",
      " block3_conv1 (Conv2D)       (None, 56, 56, 256)       295168    \n",
      "                                                                 \n",
      " block3_conv2 (Conv2D)       (None, 56, 56, 256)       590080    \n",
      "                                                                 \n",
      " block3_conv3 (Conv2D)       (None, 56, 56, 256)       590080    \n",
      "                                                                 \n",
      " block3_conv4 (Conv2D)       (None, 56, 56, 256)       590080    \n",
      "                                                                 \n",
      " block3_pool (MaxPooling2D)  (None, 28, 28, 256)       0         \n",
      "                                                                 \n",
      " block4_conv1 (Conv2D)       (None, 28, 28, 512)       1180160   \n",
      "                                                                 \n",
      " block4_conv2 (Conv2D)       (None, 28, 28, 512)       2359808   \n",
      "                                                                 \n",
      " block4_conv3 (Conv2D)       (None, 28, 28, 512)       2359808   \n",
      "                                                                 \n",
      " block4_conv4 (Conv2D)       (None, 28, 28, 512)       2359808   \n",
      "                                                                 \n",
      " block4_pool (MaxPooling2D)  (None, 14, 14, 512)       0         \n",
      "                                                                 \n",
      " block5_conv1 (Conv2D)       (None, 14, 14, 512)       2359808   \n",
      "                                                                 \n",
      " block5_conv2 (Conv2D)       (None, 14, 14, 512)       2359808   \n",
      "                                                                 \n",
      " block5_conv3 (Conv2D)       (None, 14, 14, 512)       2359808   \n",
      "                                                                 \n",
      " block5_conv4 (Conv2D)       (None, 14, 14, 512)       2359808   \n",
      "                                                                 \n",
      " block5_pool (MaxPooling2D)  (None, 7, 7, 512)         0         \n",
      "                                                                 \n",
      " flatten_3 (Flatten)         (None, 25088)             0         \n",
      "                                                                 \n",
      " dense_3 (Dense)             (None, 2)                 50178     \n",
      "                                                                 \n",
      "=================================================================\n",
      "Total params: 20,074,562\n",
      "Trainable params: 50,178\n",
      "Non-trainable params: 20,024,384\n",
      "_________________________________________________________________\n"
     ]
    }
   ],
   "source": [
    "################## Viewing the structure of model\n",
    "model.summary()"
   ]
  },
  {
   "cell_type": "markdown",
   "id": "629785ed",
   "metadata": {},
   "source": [
    "# Training the model"
   ]
  },
  {
   "cell_type": "code",
   "execution_count": 92,
   "id": "a837a4e9",
   "metadata": {},
   "outputs": [],
   "source": [
    "######### Compiling the model\n",
    "\n",
    "model.compile(loss = 'categorical_crossentropy', optimizer = 'adam',metrics = ['accuracy'])"
   ]
  },
  {
   "cell_type": "code",
   "execution_count": 93,
   "id": "a8952703",
   "metadata": {},
   "outputs": [],
   "source": [
    "################# Using Image Data Generator to import image from dataset\n",
    "\n",
    "from tensorflow.keras.preprocessing.image import ImageDataGenerator\n",
    "\n",
    "train_datagen = ImageDataGenerator(rescale = 1./255 ,\n",
    "                                  shear_range = 0.2 ,\n",
    "                                  zoom_range = 0.2 , \n",
    "                                  horizontal_flip = True)\n",
    "\n",
    "test_datagen = ImageDataGenerator(rescale = 1./255)"
   ]
  },
  {
   "cell_type": "code",
   "execution_count": 94,
   "id": "f6e19703",
   "metadata": {
    "scrolled": true
   },
   "outputs": [
    {
     "name": "stdout",
     "output_type": "stream",
     "text": [
      "Found 416 images belonging to 2 classes.\n"
     ]
    },
    {
     "data": {
      "text/plain": [
       "<keras.preprocessing.image.DirectoryIterator at 0x1c0888de9a0>"
      ]
     },
     "execution_count": 94,
     "metadata": {},
     "output_type": "execute_result"
    }
   ],
   "source": [
    "training_set = train_datagen.flow_from_directory(\"C:\\\\Users\\\\DELL\\\\OneDrive - D Cube Analytics Pvt. Ltd\\\\Desktop\\\\ML\\Machine Learning A-Z (Codes and Datasets)\\\\DL-PROJECT\\\\Dataset\\\\Train\",\n",
    "                                        batch_size = 32,\n",
    "                                        target_size = (224,224),\n",
    "                                        class_mode = 'categorical')\n",
    "\n",
    "training_set"
   ]
  },
  {
   "cell_type": "code",
   "execution_count": 95,
   "id": "c4298e82",
   "metadata": {},
   "outputs": [
    {
     "name": "stdout",
     "output_type": "stream",
     "text": [
      "Found 134 images belonging to 2 classes.\n"
     ]
    },
    {
     "data": {
      "text/plain": [
       "<keras.preprocessing.image.DirectoryIterator at 0x1c0888de6a0>"
      ]
     },
     "execution_count": 95,
     "metadata": {},
     "output_type": "execute_result"
    }
   ],
   "source": [
    "test_set = test_datagen.flow_from_directory(\"C:\\\\Users\\\\DELL\\\\OneDrive - D Cube Analytics Pvt. Ltd\\\\Desktop\\\\ML\\Machine Learning A-Z (Codes and Datasets)\\\\DL-PROJECT\\\\Dataset\\\\Test\",\n",
    "                                           target_size = (224,224),\n",
    "                                           batch_size = 32,\n",
    "                                           class_mode = 'categorical')\n",
    "test_set"
   ]
  },
  {
   "cell_type": "code",
   "execution_count": 96,
   "id": "1bc9ba90",
   "metadata": {},
   "outputs": [
    {
     "data": {
      "text/plain": [
       "13"
      ]
     },
     "execution_count": 96,
     "metadata": {},
     "output_type": "execute_result"
    }
   ],
   "source": [
    "len(training_set)"
   ]
  },
  {
   "cell_type": "code",
   "execution_count": 97,
   "id": "1e50ffd9",
   "metadata": {},
   "outputs": [
    {
     "data": {
      "text/plain": [
       "5"
      ]
     },
     "execution_count": 97,
     "metadata": {},
     "output_type": "execute_result"
    }
   ],
   "source": [
    "len(test_set)"
   ]
  },
  {
   "cell_type": "code",
   "execution_count": 98,
   "id": "68232126",
   "metadata": {},
   "outputs": [
    {
     "name": "stdout",
     "output_type": "stream",
     "text": [
      "Epoch 1/2\n",
      "13/13 [==============================] - 158s 12s/step - loss: 1.6599 - accuracy: 0.5312 - val_loss: 1.8949 - val_accuracy: 0.3358\n",
      "Epoch 2/2\n",
      "13/13 [==============================] - 157s 12s/step - loss: 0.7409 - accuracy: 0.6611 - val_loss: 0.5489 - val_accuracy: 0.7239\n"
     ]
    },
    {
     "data": {
      "text/plain": [
       "<keras.callbacks.History at 0x1c0888dee50>"
      ]
     },
     "execution_count": 98,
     "metadata": {},
     "output_type": "execute_result"
    }
   ],
   "source": [
    "#################### Training the model on training set and evaluating on test set\n",
    "\n",
    "model.fit(training_set , \n",
    "          validation_data = test_set , \n",
    "          epochs = 2 , \n",
    "          steps_per_epoch= len(training_set), \n",
    "          validation_steps= len(test_set) )"
   ]
  },
  {
   "cell_type": "code",
   "execution_count": 99,
   "id": "63e7b3a0",
   "metadata": {},
   "outputs": [
    {
     "data": {
      "text/plain": [
       "array([[0.8478895 , 0.15211059],\n",
       "       [0.54469925, 0.45530072],\n",
       "       [0.7718878 , 0.22811215],\n",
       "       [0.7279365 , 0.27206346],\n",
       "       [0.36801156, 0.6319884 ],\n",
       "       [0.4335683 , 0.5664317 ],\n",
       "       [0.9859226 , 0.01407738],\n",
       "       [0.9146033 , 0.08539674],\n",
       "       [0.9831141 , 0.01688593],\n",
       "       [0.784242  , 0.21575806],\n",
       "       [0.61579514, 0.38420486],\n",
       "       [0.73015326, 0.2698467 ],\n",
       "       [0.9975425 , 0.00245755],\n",
       "       [0.81377757, 0.18622248],\n",
       "       [0.79946935, 0.20053063],\n",
       "       [0.82337517, 0.17662482],\n",
       "       [0.74302894, 0.25697103],\n",
       "       [0.966814  , 0.03318597],\n",
       "       [0.938613  , 0.06138694],\n",
       "       [0.585776  , 0.414224  ],\n",
       "       [0.6534124 , 0.3465876 ],\n",
       "       [0.9272706 , 0.07272945],\n",
       "       [0.8480501 , 0.15194993],\n",
       "       [0.8992722 , 0.10072777],\n",
       "       [0.7858898 , 0.21411023],\n",
       "       [0.8474802 , 0.1525198 ],\n",
       "       [0.7154462 , 0.28455386],\n",
       "       [0.93079776, 0.06920225],\n",
       "       [0.80189866, 0.19810133],\n",
       "       [0.61481273, 0.38518733],\n",
       "       [0.9446415 , 0.05535851],\n",
       "       [0.9483737 , 0.05162632],\n",
       "       [0.83118325, 0.16881679],\n",
       "       [0.73448914, 0.26551086],\n",
       "       [0.9175228 , 0.08247726],\n",
       "       [0.91462684, 0.08537322],\n",
       "       [0.9297926 , 0.07020743],\n",
       "       [0.35330108, 0.6466989 ],\n",
       "       [0.780823  , 0.21917701],\n",
       "       [0.9597503 , 0.04024978],\n",
       "       [0.8331687 , 0.1668313 ],\n",
       "       [0.85158795, 0.14841205],\n",
       "       [0.6889233 , 0.31107664],\n",
       "       [0.95699495, 0.04300507],\n",
       "       [0.46004844, 0.5399515 ],\n",
       "       [0.9851716 , 0.01482841],\n",
       "       [0.66351604, 0.33648396],\n",
       "       [0.5611204 , 0.43887964],\n",
       "       [0.9364788 , 0.06352121],\n",
       "       [0.49478164, 0.5052183 ],\n",
       "       [0.9681188 , 0.03188117],\n",
       "       [0.76685697, 0.233143  ],\n",
       "       [0.7966031 , 0.20339687],\n",
       "       [0.6873493 , 0.3126506 ],\n",
       "       [0.9470454 , 0.05295455],\n",
       "       [0.5243677 , 0.47563225],\n",
       "       [0.9124085 , 0.08759148],\n",
       "       [0.605049  , 0.394951  ],\n",
       "       [0.5212797 , 0.47872028],\n",
       "       [0.9572789 , 0.04272114],\n",
       "       [0.73287606, 0.2671239 ],\n",
       "       [0.9917007 , 0.00829924],\n",
       "       [0.90799934, 0.09200072],\n",
       "       [0.6860434 , 0.31395665],\n",
       "       [0.8897595 , 0.11024047],\n",
       "       [0.8982306 , 0.10176937],\n",
       "       [0.59545994, 0.40454006],\n",
       "       [0.8338942 , 0.16610578],\n",
       "       [0.7996603 , 0.20033965],\n",
       "       [0.834149  , 0.16585103],\n",
       "       [0.97370607, 0.02629391],\n",
       "       [0.5575263 , 0.4424737 ],\n",
       "       [0.28030923, 0.71969074],\n",
       "       [0.537398  , 0.46260202],\n",
       "       [0.75887567, 0.24112429],\n",
       "       [0.90839595, 0.09160406],\n",
       "       [0.68215877, 0.3178412 ],\n",
       "       [0.78356576, 0.21643427],\n",
       "       [0.78087336, 0.2191266 ],\n",
       "       [0.90049   , 0.09951001],\n",
       "       [0.671673  , 0.32832703],\n",
       "       [0.50663257, 0.4933675 ],\n",
       "       [0.41297188, 0.5870282 ],\n",
       "       [0.80656534, 0.19343466],\n",
       "       [0.68432516, 0.31567487],\n",
       "       [0.9063409 , 0.09365917],\n",
       "       [0.49676368, 0.5032363 ],\n",
       "       [0.89087754, 0.10912241],\n",
       "       [0.48335522, 0.5166448 ],\n",
       "       [0.6781912 , 0.3218088 ],\n",
       "       [0.28180322, 0.7181967 ],\n",
       "       [0.4434269 , 0.5565731 ],\n",
       "       [0.95169175, 0.04830822],\n",
       "       [0.9785308 , 0.02146924],\n",
       "       [0.9200121 , 0.07998788],\n",
       "       [0.809115  , 0.19088499],\n",
       "       [0.81459165, 0.1854083 ],\n",
       "       [0.6059283 , 0.3940718 ],\n",
       "       [0.48251548, 0.51748455],\n",
       "       [0.7466685 , 0.25333145],\n",
       "       [0.8882168 , 0.11178321],\n",
       "       [0.82221127, 0.17778869],\n",
       "       [0.69553787, 0.30446213],\n",
       "       [0.91372013, 0.08627982],\n",
       "       [0.2521517 , 0.7478483 ],\n",
       "       [0.6805139 , 0.31948605],\n",
       "       [0.98754275, 0.01245728],\n",
       "       [0.647101  , 0.35289907],\n",
       "       [0.99392706, 0.00607292],\n",
       "       [0.8280914 , 0.17190863],\n",
       "       [0.67323357, 0.32676646],\n",
       "       [0.7574389 , 0.2425611 ],\n",
       "       [0.57971776, 0.42028224],\n",
       "       [0.62110925, 0.37889078],\n",
       "       [0.56559426, 0.43440568],\n",
       "       [0.83369714, 0.16630286],\n",
       "       [0.5193054 , 0.48069456],\n",
       "       [0.80427545, 0.19572455],\n",
       "       [0.38023967, 0.6197604 ],\n",
       "       [0.58026475, 0.41973525],\n",
       "       [0.49821702, 0.501783  ],\n",
       "       [0.78076786, 0.21923216],\n",
       "       [0.8942708 , 0.10572919],\n",
       "       [0.35555887, 0.6444411 ],\n",
       "       [0.7078053 , 0.29219475],\n",
       "       [0.95007885, 0.04992122],\n",
       "       [0.445879  , 0.55412096],\n",
       "       [0.75072634, 0.24927364],\n",
       "       [0.6150149 , 0.3849851 ],\n",
       "       [0.80303663, 0.1969634 ],\n",
       "       [0.390963  , 0.60903704],\n",
       "       [0.3707465 , 0.62925345],\n",
       "       [0.663939  , 0.33606103],\n",
       "       [0.46973082, 0.53026927]], dtype=float32)"
      ]
     },
     "execution_count": 99,
     "metadata": {},
     "output_type": "execute_result"
    }
   ],
   "source": [
    "################### Prediction\n",
    "y_pred = model.predict(test_set)\n",
    "y_pred"
   ]
  },
  {
   "cell_type": "code",
   "execution_count": 100,
   "id": "846a69cb",
   "metadata": {},
   "outputs": [
    {
     "data": {
      "text/plain": [
       "array([0, 0, 0, 0, 1, 1, 0, 0, 0, 0, 0, 0, 0, 0, 0, 0, 0, 0, 0, 0, 0, 0,\n",
       "       0, 0, 0, 0, 0, 0, 0, 0, 0, 0, 0, 0, 0, 0, 0, 1, 0, 0, 0, 0, 0, 0,\n",
       "       1, 0, 0, 0, 0, 1, 0, 0, 0, 0, 0, 0, 0, 0, 0, 0, 0, 0, 0, 0, 0, 0,\n",
       "       0, 0, 0, 0, 0, 0, 1, 0, 0, 0, 0, 0, 0, 0, 0, 0, 1, 0, 0, 0, 1, 0,\n",
       "       1, 0, 1, 1, 0, 0, 0, 0, 0, 0, 1, 0, 0, 0, 0, 0, 1, 0, 0, 0, 0, 0,\n",
       "       0, 0, 0, 0, 0, 0, 0, 0, 1, 0, 1, 0, 0, 1, 0, 0, 1, 0, 0, 0, 1, 1,\n",
       "       0, 1], dtype=int64)"
      ]
     },
     "execution_count": 100,
     "metadata": {},
     "output_type": "execute_result"
    }
   ],
   "source": [
    "######### Getting the index of maximum element in the y_pred\n",
    "\n",
    "import numpy as np\n",
    "y_pred = np.argmax(y_pred , axis = 1)\n",
    "y_pred"
   ]
  },
  {
   "cell_type": "markdown",
   "id": "e2b95d58",
   "metadata": {},
   "source": [
    "y_pred = 0 means person is infected and vice versa"
   ]
  },
  {
   "cell_type": "markdown",
   "id": "32ae6c18",
   "metadata": {},
   "source": [
    "# Making a single prediction"
   ]
  },
  {
   "cell_type": "code",
   "execution_count": 101,
   "id": "a2016cd6",
   "metadata": {},
   "outputs": [
    {
     "data": {
      "text/plain": [
       "array([[[0., 0., 0.],\n",
       "        [0., 0., 0.],\n",
       "        [0., 0., 0.],\n",
       "        ...,\n",
       "        [0., 0., 0.],\n",
       "        [0., 0., 0.],\n",
       "        [0., 0., 0.]],\n",
       "\n",
       "       [[0., 0., 0.],\n",
       "        [0., 0., 0.],\n",
       "        [0., 0., 0.],\n",
       "        ...,\n",
       "        [0., 0., 0.],\n",
       "        [0., 0., 0.],\n",
       "        [0., 0., 0.]],\n",
       "\n",
       "       [[0., 0., 0.],\n",
       "        [0., 0., 0.],\n",
       "        [0., 0., 0.],\n",
       "        ...,\n",
       "        [0., 0., 0.],\n",
       "        [0., 0., 0.],\n",
       "        [0., 0., 0.]],\n",
       "\n",
       "       ...,\n",
       "\n",
       "       [[0., 0., 0.],\n",
       "        [0., 0., 0.],\n",
       "        [0., 0., 0.],\n",
       "        ...,\n",
       "        [0., 0., 0.],\n",
       "        [0., 0., 0.],\n",
       "        [0., 0., 0.]],\n",
       "\n",
       "       [[0., 0., 0.],\n",
       "        [0., 0., 0.],\n",
       "        [0., 0., 0.],\n",
       "        ...,\n",
       "        [0., 0., 0.],\n",
       "        [0., 0., 0.],\n",
       "        [0., 0., 0.]],\n",
       "\n",
       "       [[0., 0., 0.],\n",
       "        [0., 0., 0.],\n",
       "        [0., 0., 0.],\n",
       "        ...,\n",
       "        [0., 0., 0.],\n",
       "        [0., 0., 0.],\n",
       "        [0., 0., 0.]]], dtype=float32)"
      ]
     },
     "execution_count": 101,
     "metadata": {},
     "output_type": "execute_result"
    }
   ],
   "source": [
    "from tensorflow.keras.preprocessing import image\n",
    "\n",
    "test_image = image.load_img(\"C:\\\\Users\\\\DELL\\\\OneDrive - D Cube Analytics Pvt. Ltd\\\\Desktop\\\\ML\\\\Machine Learning A-Z (Codes and Datasets)\\\\DL-PROJECT\\\\Dataset\\\\Test\\\\Parasite\\\\C39P4thinF_original_IMG_20150622_105803_cell_90.png\", target_size = (224,224))\n",
    "test_image = image.img_to_array(test_image)\n",
    "test_image"
   ]
  },
  {
   "cell_type": "code",
   "execution_count": 102,
   "id": "272ff9e7",
   "metadata": {},
   "outputs": [
    {
     "data": {
      "text/plain": [
       "(224, 224, 3)"
      ]
     },
     "execution_count": 102,
     "metadata": {},
     "output_type": "execute_result"
    }
   ],
   "source": [
    "test_image.shape"
   ]
  },
  {
   "cell_type": "code",
   "execution_count": 103,
   "id": "ffbfaf6e",
   "metadata": {},
   "outputs": [],
   "source": [
    "test_image = test_image/255"
   ]
  },
  {
   "cell_type": "code",
   "execution_count": 104,
   "id": "d29427d9",
   "metadata": {},
   "outputs": [],
   "source": [
    "test_image = np.expand_dims(test_image, axis = 0)"
   ]
  },
  {
   "cell_type": "code",
   "execution_count": 105,
   "id": "df2ff376",
   "metadata": {},
   "outputs": [
    {
     "data": {
      "text/plain": [
       "array([[0.93079776, 0.06920221]], dtype=float32)"
      ]
     },
     "execution_count": 105,
     "metadata": {},
     "output_type": "execute_result"
    }
   ],
   "source": [
    "################# Predicting the image\n",
    "model.predict(test_image)"
   ]
  },
  {
   "cell_type": "code",
   "execution_count": 106,
   "id": "92974b36",
   "metadata": {},
   "outputs": [
    {
     "name": "stdout",
     "output_type": "stream",
     "text": [
      "Infected\n"
     ]
    }
   ],
   "source": [
    "a = np.argmax(model.predict(test_image), axis = 1)\n",
    "if (a==1):\n",
    "    print('Uninfected')\n",
    "else :\n",
    "    print('Infected')"
   ]
  },
  {
   "cell_type": "code",
   "execution_count": null,
   "id": "d2cf728b",
   "metadata": {},
   "outputs": [],
   "source": []
  }
 ],
 "metadata": {
  "kernelspec": {
   "display_name": "Python 3 (ipykernel)",
   "language": "python",
   "name": "python3"
  },
  "language_info": {
   "codemirror_mode": {
    "name": "ipython",
    "version": 3
   },
   "file_extension": ".py",
   "mimetype": "text/x-python",
   "name": "python",
   "nbconvert_exporter": "python",
   "pygments_lexer": "ipython3",
   "version": "3.9.12"
  }
 },
 "nbformat": 4,
 "nbformat_minor": 5
}
